{
 "cells": [
  {
   "cell_type": "markdown",
   "id": "a4800b65-e589-4c29-a9ea-ed852a395cec",
   "metadata": {},
   "source": [
    "## Data preprocessing "
   ]
  },
  {
   "cell_type": "code",
   "execution_count": 1,
   "id": "6a7e6505-128b-44d0-b1e6-224b69253a33",
   "metadata": {},
   "outputs": [],
   "source": [
    "# Dependencies\n",
    "import pandas as pd\n",
    "import numpy as np\n",
    "import seaborn as sns\n",
    "import matplotlib.pyplot as plt \n",
    "from sklearn.linear_model import LinearRegression, Ridge, Lasso\n",
    "from sklearn.ensemble import RandomForestRegressor \n",
    "from sklearn.model_selection import train_test_split, RandomizedSearchCV\n",
    "from sklearn.preprocessing import StandardScaler\n",
    "from sklearn.metrics import mean_squared_error as mse\n",
    "from sklearn.tree import DecisionTreeRegressor"
   ]
  },
  {
   "cell_type": "code",
   "execution_count": 2,
   "id": "41dc0b99-200c-40bd-8f7f-58480cd55108",
   "metadata": {},
   "outputs": [
    {
     "data": {
      "text/html": [
       "<div>\n",
       "<style scoped>\n",
       "    .dataframe tbody tr th:only-of-type {\n",
       "        vertical-align: middle;\n",
       "    }\n",
       "\n",
       "    .dataframe tbody tr th {\n",
       "        vertical-align: top;\n",
       "    }\n",
       "\n",
       "    .dataframe thead th {\n",
       "        text-align: right;\n",
       "    }\n",
       "</style>\n",
       "<table border=\"1\" class=\"dataframe\">\n",
       "  <thead>\n",
       "    <tr style=\"text-align: right;\">\n",
       "      <th></th>\n",
       "      <th>Suburb</th>\n",
       "      <th>Address</th>\n",
       "      <th>Rooms</th>\n",
       "      <th>Type</th>\n",
       "      <th>Price</th>\n",
       "      <th>Method</th>\n",
       "      <th>SellerG</th>\n",
       "      <th>Date</th>\n",
       "      <th>Distance</th>\n",
       "      <th>Postcode</th>\n",
       "      <th>...</th>\n",
       "      <th>Bathroom</th>\n",
       "      <th>Car</th>\n",
       "      <th>Landsize</th>\n",
       "      <th>BuildingArea</th>\n",
       "      <th>YearBuilt</th>\n",
       "      <th>CouncilArea</th>\n",
       "      <th>Lattitude</th>\n",
       "      <th>Longtitude</th>\n",
       "      <th>Regionname</th>\n",
       "      <th>Propertycount</th>\n",
       "    </tr>\n",
       "  </thead>\n",
       "  <tbody>\n",
       "    <tr>\n",
       "      <th>0</th>\n",
       "      <td>Abbotsford</td>\n",
       "      <td>68 Studley St</td>\n",
       "      <td>2</td>\n",
       "      <td>h</td>\n",
       "      <td>NaN</td>\n",
       "      <td>SS</td>\n",
       "      <td>Jellis</td>\n",
       "      <td>3/09/2016</td>\n",
       "      <td>2.5</td>\n",
       "      <td>3067.0</td>\n",
       "      <td>...</td>\n",
       "      <td>1.0</td>\n",
       "      <td>1.0</td>\n",
       "      <td>126.0</td>\n",
       "      <td>NaN</td>\n",
       "      <td>NaN</td>\n",
       "      <td>Yarra City Council</td>\n",
       "      <td>-37.8014</td>\n",
       "      <td>144.9958</td>\n",
       "      <td>Northern Metropolitan</td>\n",
       "      <td>4019.0</td>\n",
       "    </tr>\n",
       "    <tr>\n",
       "      <th>1</th>\n",
       "      <td>Abbotsford</td>\n",
       "      <td>85 Turner St</td>\n",
       "      <td>2</td>\n",
       "      <td>h</td>\n",
       "      <td>1480000.0</td>\n",
       "      <td>S</td>\n",
       "      <td>Biggin</td>\n",
       "      <td>3/12/2016</td>\n",
       "      <td>2.5</td>\n",
       "      <td>3067.0</td>\n",
       "      <td>...</td>\n",
       "      <td>1.0</td>\n",
       "      <td>1.0</td>\n",
       "      <td>202.0</td>\n",
       "      <td>NaN</td>\n",
       "      <td>NaN</td>\n",
       "      <td>Yarra City Council</td>\n",
       "      <td>-37.7996</td>\n",
       "      <td>144.9984</td>\n",
       "      <td>Northern Metropolitan</td>\n",
       "      <td>4019.0</td>\n",
       "    </tr>\n",
       "    <tr>\n",
       "      <th>2</th>\n",
       "      <td>Abbotsford</td>\n",
       "      <td>25 Bloomburg St</td>\n",
       "      <td>2</td>\n",
       "      <td>h</td>\n",
       "      <td>1035000.0</td>\n",
       "      <td>S</td>\n",
       "      <td>Biggin</td>\n",
       "      <td>4/02/2016</td>\n",
       "      <td>2.5</td>\n",
       "      <td>3067.0</td>\n",
       "      <td>...</td>\n",
       "      <td>1.0</td>\n",
       "      <td>0.0</td>\n",
       "      <td>156.0</td>\n",
       "      <td>79.0</td>\n",
       "      <td>1900.0</td>\n",
       "      <td>Yarra City Council</td>\n",
       "      <td>-37.8079</td>\n",
       "      <td>144.9934</td>\n",
       "      <td>Northern Metropolitan</td>\n",
       "      <td>4019.0</td>\n",
       "    </tr>\n",
       "  </tbody>\n",
       "</table>\n",
       "<p>3 rows × 21 columns</p>\n",
       "</div>"
      ],
      "text/plain": [
       "       Suburb          Address  Rooms Type      Price Method SellerG  \\\n",
       "0  Abbotsford    68 Studley St      2    h        NaN     SS  Jellis   \n",
       "1  Abbotsford     85 Turner St      2    h  1480000.0      S  Biggin   \n",
       "2  Abbotsford  25 Bloomburg St      2    h  1035000.0      S  Biggin   \n",
       "\n",
       "        Date  Distance  Postcode  ...  Bathroom  Car  Landsize  BuildingArea  \\\n",
       "0  3/09/2016       2.5    3067.0  ...       1.0  1.0     126.0           NaN   \n",
       "1  3/12/2016       2.5    3067.0  ...       1.0  1.0     202.0           NaN   \n",
       "2  4/02/2016       2.5    3067.0  ...       1.0  0.0     156.0          79.0   \n",
       "\n",
       "   YearBuilt         CouncilArea Lattitude  Longtitude             Regionname  \\\n",
       "0        NaN  Yarra City Council  -37.8014    144.9958  Northern Metropolitan   \n",
       "1        NaN  Yarra City Council  -37.7996    144.9984  Northern Metropolitan   \n",
       "2     1900.0  Yarra City Council  -37.8079    144.9934  Northern Metropolitan   \n",
       "\n",
       "  Propertycount  \n",
       "0        4019.0  \n",
       "1        4019.0  \n",
       "2        4019.0  \n",
       "\n",
       "[3 rows x 21 columns]"
      ]
     },
     "execution_count": 2,
     "metadata": {},
     "output_type": "execute_result"
    }
   ],
   "source": [
    "df = pd.read_csv('Melbourne_housing_FULL.csv')\n",
    "df.head(3)"
   ]
  },
  {
   "cell_type": "code",
   "execution_count": 3,
   "id": "0a402359-87a3-41c5-ad6d-c3aba1b3caf6",
   "metadata": {},
   "outputs": [
    {
     "name": "stdout",
     "output_type": "stream",
     "text": [
      "<class 'pandas.core.frame.DataFrame'>\n",
      "RangeIndex: 34857 entries, 0 to 34856\n",
      "Data columns (total 21 columns):\n",
      " #   Column         Non-Null Count  Dtype  \n",
      "---  ------         --------------  -----  \n",
      " 0   Suburb         34857 non-null  object \n",
      " 1   Address        34857 non-null  object \n",
      " 2   Rooms          34857 non-null  int64  \n",
      " 3   Type           34857 non-null  object \n",
      " 4   Price          27247 non-null  float64\n",
      " 5   Method         34857 non-null  object \n",
      " 6   SellerG        34857 non-null  object \n",
      " 7   Date           34857 non-null  object \n",
      " 8   Distance       34856 non-null  float64\n",
      " 9   Postcode       34856 non-null  float64\n",
      " 10  Bedroom2       26640 non-null  float64\n",
      " 11  Bathroom       26631 non-null  float64\n",
      " 12  Car            26129 non-null  float64\n",
      " 13  Landsize       23047 non-null  float64\n",
      " 14  BuildingArea   13742 non-null  float64\n",
      " 15  YearBuilt      15551 non-null  float64\n",
      " 16  CouncilArea    34854 non-null  object \n",
      " 17  Lattitude      26881 non-null  float64\n",
      " 18  Longtitude     26881 non-null  float64\n",
      " 19  Regionname     34854 non-null  object \n",
      " 20  Propertycount  34854 non-null  float64\n",
      "dtypes: float64(12), int64(1), object(8)\n",
      "memory usage: 5.6+ MB\n"
     ]
    }
   ],
   "source": [
    "# this helps to learn more about our data\n",
    "df.info()"
   ]
  },
  {
   "cell_type": "code",
   "execution_count": 4,
   "id": "b0684018-e00e-4e24-8837-0338fed0c0d6",
   "metadata": {},
   "outputs": [
    {
     "data": {
      "text/html": [
       "<div>\n",
       "<style scoped>\n",
       "    .dataframe tbody tr th:only-of-type {\n",
       "        vertical-align: middle;\n",
       "    }\n",
       "\n",
       "    .dataframe tbody tr th {\n",
       "        vertical-align: top;\n",
       "    }\n",
       "\n",
       "    .dataframe thead th {\n",
       "        text-align: right;\n",
       "    }\n",
       "</style>\n",
       "<table border=\"1\" class=\"dataframe\">\n",
       "  <thead>\n",
       "    <tr style=\"text-align: right;\">\n",
       "      <th></th>\n",
       "      <th>Suburb</th>\n",
       "      <th>Address</th>\n",
       "      <th>Rooms</th>\n",
       "      <th>Type</th>\n",
       "      <th>Price</th>\n",
       "      <th>Date</th>\n",
       "      <th>Distance</th>\n",
       "      <th>Postcode</th>\n",
       "      <th>Bedroom2</th>\n",
       "      <th>Bathroom</th>\n",
       "      <th>Car</th>\n",
       "      <th>Landsize</th>\n",
       "      <th>CouncilArea</th>\n",
       "      <th>Regionname</th>\n",
       "      <th>Propertycount</th>\n",
       "    </tr>\n",
       "  </thead>\n",
       "  <tbody>\n",
       "    <tr>\n",
       "      <th>0</th>\n",
       "      <td>Abbotsford</td>\n",
       "      <td>68 Studley St</td>\n",
       "      <td>2</td>\n",
       "      <td>h</td>\n",
       "      <td>NaN</td>\n",
       "      <td>3/09/2016</td>\n",
       "      <td>2.5</td>\n",
       "      <td>3067.0</td>\n",
       "      <td>2.0</td>\n",
       "      <td>1.0</td>\n",
       "      <td>1.0</td>\n",
       "      <td>126.0</td>\n",
       "      <td>Yarra City Council</td>\n",
       "      <td>Northern Metropolitan</td>\n",
       "      <td>4019.0</td>\n",
       "    </tr>\n",
       "    <tr>\n",
       "      <th>1</th>\n",
       "      <td>Abbotsford</td>\n",
       "      <td>85 Turner St</td>\n",
       "      <td>2</td>\n",
       "      <td>h</td>\n",
       "      <td>1480000.0</td>\n",
       "      <td>3/12/2016</td>\n",
       "      <td>2.5</td>\n",
       "      <td>3067.0</td>\n",
       "      <td>2.0</td>\n",
       "      <td>1.0</td>\n",
       "      <td>1.0</td>\n",
       "      <td>202.0</td>\n",
       "      <td>Yarra City Council</td>\n",
       "      <td>Northern Metropolitan</td>\n",
       "      <td>4019.0</td>\n",
       "    </tr>\n",
       "    <tr>\n",
       "      <th>2</th>\n",
       "      <td>Abbotsford</td>\n",
       "      <td>25 Bloomburg St</td>\n",
       "      <td>2</td>\n",
       "      <td>h</td>\n",
       "      <td>1035000.0</td>\n",
       "      <td>4/02/2016</td>\n",
       "      <td>2.5</td>\n",
       "      <td>3067.0</td>\n",
       "      <td>2.0</td>\n",
       "      <td>1.0</td>\n",
       "      <td>0.0</td>\n",
       "      <td>156.0</td>\n",
       "      <td>Yarra City Council</td>\n",
       "      <td>Northern Metropolitan</td>\n",
       "      <td>4019.0</td>\n",
       "    </tr>\n",
       "  </tbody>\n",
       "</table>\n",
       "</div>"
      ],
      "text/plain": [
       "       Suburb          Address  Rooms Type      Price       Date  Distance  \\\n",
       "0  Abbotsford    68 Studley St      2    h        NaN  3/09/2016       2.5   \n",
       "1  Abbotsford     85 Turner St      2    h  1480000.0  3/12/2016       2.5   \n",
       "2  Abbotsford  25 Bloomburg St      2    h  1035000.0  4/02/2016       2.5   \n",
       "\n",
       "   Postcode  Bedroom2  Bathroom  Car  Landsize         CouncilArea  \\\n",
       "0    3067.0       2.0       1.0  1.0     126.0  Yarra City Council   \n",
       "1    3067.0       2.0       1.0  1.0     202.0  Yarra City Council   \n",
       "2    3067.0       2.0       1.0  0.0     156.0  Yarra City Council   \n",
       "\n",
       "              Regionname  Propertycount  \n",
       "0  Northern Metropolitan         4019.0  \n",
       "1  Northern Metropolitan         4019.0  \n",
       "2  Northern Metropolitan         4019.0  "
      ]
     },
     "execution_count": 4,
     "metadata": {},
     "output_type": "execute_result"
    }
   ],
   "source": [
    "# drop some column\n",
    "df.drop(['SellerG','Method', 'BuildingArea', 'YearBuilt', 'Lattitude', 'Longtitude' ], axis = 1, inplace = True)\n",
    "df.head(3)"
   ]
  },
  {
   "cell_type": "code",
   "execution_count": 5,
   "id": "b3edc341-b0b1-4a05-8c93-bb5c696ea289",
   "metadata": {},
   "outputs": [
    {
     "data": {
      "text/plain": [
       "Suburb               0\n",
       "Address              0\n",
       "Rooms                0\n",
       "Type                 0\n",
       "Price             7610\n",
       "Date                 0\n",
       "Distance             1\n",
       "Postcode             1\n",
       "Bedroom2          8217\n",
       "Bathroom          8226\n",
       "Car               8728\n",
       "Landsize         11810\n",
       "CouncilArea          3\n",
       "Regionname           3\n",
       "Propertycount        3\n",
       "dtype: int64"
      ]
     },
     "execution_count": 5,
     "metadata": {},
     "output_type": "execute_result"
    }
   ],
   "source": [
    "# identify the missing data\n",
    "df.isna().sum()"
   ]
  },
  {
   "cell_type": "code",
   "execution_count": 6,
   "id": "70d502c8-d5fe-41e3-a63c-a4ab7f4d6503",
   "metadata": {},
   "outputs": [],
   "source": [
    "df.dropna(inplace = True)"
   ]
  },
  {
   "cell_type": "code",
   "execution_count": 7,
   "id": "b655548f-1d1d-4f17-8348-387d478733aa",
   "metadata": {},
   "outputs": [
    {
     "data": {
      "text/plain": [
       "Suburb           0\n",
       "Address          0\n",
       "Rooms            0\n",
       "Type             0\n",
       "Price            0\n",
       "Date             0\n",
       "Distance         0\n",
       "Postcode         0\n",
       "Bedroom2         0\n",
       "Bathroom         0\n",
       "Car              0\n",
       "Landsize         0\n",
       "CouncilArea      0\n",
       "Regionname       0\n",
       "Propertycount    0\n",
       "dtype: int64"
      ]
     },
     "execution_count": 7,
     "metadata": {},
     "output_type": "execute_result"
    }
   ],
   "source": [
    "# identify the missing data\n",
    "df.isna().sum()"
   ]
  },
  {
   "cell_type": "code",
   "execution_count": 8,
   "id": "f6b7afba-0d8c-4756-9fbf-d0fca3ef4458",
   "metadata": {},
   "outputs": [
    {
     "data": {
      "text/html": [
       "<div>\n",
       "<style scoped>\n",
       "    .dataframe tbody tr th:only-of-type {\n",
       "        vertical-align: middle;\n",
       "    }\n",
       "\n",
       "    .dataframe tbody tr th {\n",
       "        vertical-align: top;\n",
       "    }\n",
       "\n",
       "    .dataframe thead th {\n",
       "        text-align: right;\n",
       "    }\n",
       "</style>\n",
       "<table border=\"1\" class=\"dataframe\">\n",
       "  <thead>\n",
       "    <tr style=\"text-align: right;\">\n",
       "      <th></th>\n",
       "      <th>Rooms</th>\n",
       "      <th>Price</th>\n",
       "      <th>Distance</th>\n",
       "      <th>Postcode</th>\n",
       "      <th>Bedroom2</th>\n",
       "      <th>Bathroom</th>\n",
       "      <th>Car</th>\n",
       "      <th>Landsize</th>\n",
       "      <th>Propertycount</th>\n",
       "    </tr>\n",
       "  </thead>\n",
       "  <tbody>\n",
       "    <tr>\n",
       "      <th>count</th>\n",
       "      <td>17701.000000</td>\n",
       "      <td>1.770100e+04</td>\n",
       "      <td>17701.000000</td>\n",
       "      <td>17701.000000</td>\n",
       "      <td>17701.000000</td>\n",
       "      <td>17701.000000</td>\n",
       "      <td>17701.000000</td>\n",
       "      <td>17701.000000</td>\n",
       "      <td>17701.000000</td>\n",
       "    </tr>\n",
       "    <tr>\n",
       "      <th>mean</th>\n",
       "      <td>3.053839</td>\n",
       "      <td>1.094671e+06</td>\n",
       "      <td>11.154144</td>\n",
       "      <td>3111.927179</td>\n",
       "      <td>3.036552</td>\n",
       "      <td>1.584882</td>\n",
       "      <td>1.698887</td>\n",
       "      <td>594.600983</td>\n",
       "      <td>7477.462008</td>\n",
       "    </tr>\n",
       "    <tr>\n",
       "      <th>std</th>\n",
       "      <td>0.944616</td>\n",
       "      <td>6.557413e+05</td>\n",
       "      <td>6.644866</td>\n",
       "      <td>109.516286</td>\n",
       "      <td>0.957083</td>\n",
       "      <td>0.704774</td>\n",
       "      <td>0.998673</td>\n",
       "      <td>3784.050045</td>\n",
       "      <td>4398.064054</td>\n",
       "    </tr>\n",
       "    <tr>\n",
       "      <th>min</th>\n",
       "      <td>1.000000</td>\n",
       "      <td>8.500000e+04</td>\n",
       "      <td>0.000000</td>\n",
       "      <td>3000.000000</td>\n",
       "      <td>0.000000</td>\n",
       "      <td>0.000000</td>\n",
       "      <td>0.000000</td>\n",
       "      <td>0.000000</td>\n",
       "      <td>83.000000</td>\n",
       "    </tr>\n",
       "    <tr>\n",
       "      <th>25%</th>\n",
       "      <td>2.000000</td>\n",
       "      <td>6.600000e+05</td>\n",
       "      <td>6.500000</td>\n",
       "      <td>3046.000000</td>\n",
       "      <td>2.000000</td>\n",
       "      <td>1.000000</td>\n",
       "      <td>1.000000</td>\n",
       "      <td>222.000000</td>\n",
       "      <td>4380.000000</td>\n",
       "    </tr>\n",
       "    <tr>\n",
       "      <th>50%</th>\n",
       "      <td>3.000000</td>\n",
       "      <td>9.120000e+05</td>\n",
       "      <td>10.400000</td>\n",
       "      <td>3085.000000</td>\n",
       "      <td>3.000000</td>\n",
       "      <td>1.000000</td>\n",
       "      <td>2.000000</td>\n",
       "      <td>516.000000</td>\n",
       "      <td>6567.000000</td>\n",
       "    </tr>\n",
       "    <tr>\n",
       "      <th>75%</th>\n",
       "      <td>4.000000</td>\n",
       "      <td>1.345000e+06</td>\n",
       "      <td>13.900000</td>\n",
       "      <td>3150.000000</td>\n",
       "      <td>4.000000</td>\n",
       "      <td>2.000000</td>\n",
       "      <td>2.000000</td>\n",
       "      <td>664.000000</td>\n",
       "      <td>10331.000000</td>\n",
       "    </tr>\n",
       "    <tr>\n",
       "      <th>max</th>\n",
       "      <td>12.000000</td>\n",
       "      <td>1.120000e+07</td>\n",
       "      <td>48.100000</td>\n",
       "      <td>3977.000000</td>\n",
       "      <td>20.000000</td>\n",
       "      <td>9.000000</td>\n",
       "      <td>18.000000</td>\n",
       "      <td>433014.000000</td>\n",
       "      <td>21650.000000</td>\n",
       "    </tr>\n",
       "  </tbody>\n",
       "</table>\n",
       "</div>"
      ],
      "text/plain": [
       "              Rooms         Price      Distance      Postcode      Bedroom2  \\\n",
       "count  17701.000000  1.770100e+04  17701.000000  17701.000000  17701.000000   \n",
       "mean       3.053839  1.094671e+06     11.154144   3111.927179      3.036552   \n",
       "std        0.944616  6.557413e+05      6.644866    109.516286      0.957083   \n",
       "min        1.000000  8.500000e+04      0.000000   3000.000000      0.000000   \n",
       "25%        2.000000  6.600000e+05      6.500000   3046.000000      2.000000   \n",
       "50%        3.000000  9.120000e+05     10.400000   3085.000000      3.000000   \n",
       "75%        4.000000  1.345000e+06     13.900000   3150.000000      4.000000   \n",
       "max       12.000000  1.120000e+07     48.100000   3977.000000     20.000000   \n",
       "\n",
       "           Bathroom           Car       Landsize  Propertycount  \n",
       "count  17701.000000  17701.000000   17701.000000   17701.000000  \n",
       "mean       1.584882      1.698887     594.600983    7477.462008  \n",
       "std        0.704774      0.998673    3784.050045    4398.064054  \n",
       "min        0.000000      0.000000       0.000000      83.000000  \n",
       "25%        1.000000      1.000000     222.000000    4380.000000  \n",
       "50%        1.000000      2.000000     516.000000    6567.000000  \n",
       "75%        2.000000      2.000000     664.000000   10331.000000  \n",
       "max        9.000000     18.000000  433014.000000   21650.000000  "
      ]
     },
     "execution_count": 8,
     "metadata": {},
     "output_type": "execute_result"
    }
   ],
   "source": [
    "df.describe()"
   ]
  },
  {
   "cell_type": "markdown",
   "id": "01f34965-86ce-4bd1-b6f7-c5de067f9ec9",
   "metadata": {},
   "source": [
    "## Data Visualisation"
   ]
  },
  {
   "cell_type": "code",
   "execution_count": 9,
   "id": "0957d17a-1e36-4f38-a4ae-298c46823b39",
   "metadata": {},
   "outputs": [
    {
     "data": {
      "text/plain": [
       "<AxesSubplot:ylabel='Price'>"
      ]
     },
     "execution_count": 9,
     "metadata": {},
     "output_type": "execute_result"
    },
    {
     "data": {
      "image/png": "[encoded data removed]",
      "text/plain": [
       "<Figure size 576x576 with 1 Axes>"
      ]
     },
     "metadata": {
      "needs_background": "light"
     },
     "output_type": "display_data"
    }
   ],
   "source": [
    "# boxplot\n",
    "plt.figure(figsize = (8,8))\n",
    "sns.boxplot(y = 'Price', data = df)"
   ]
  },
  {
   "cell_type": "code",
   "execution_count": 10,
   "id": "75077798-8ecb-4278-b31a-459eaa21b442",
   "metadata": {},
   "outputs": [],
   "source": [
    "# deal with the outliers\n",
    "# value < Q1 - 1,5*IQR OR value > Q3 + 1,5 * IQR\n",
    "def finding_outliers(data, variable_name) :\n",
    "    iqr = data[variable_name].quantile(0.75) - data[variable_name].quantile(0.25)\n",
    "    lower =  data[variable_name].quantile(0.25) -1.5*iqr\n",
    "    upper =  data[variable_name].quantile(0.75) + 1.5*iqr\n",
    "    return data [(data[variable_name] < lower) | (data[variable_name] > upper)]"
   ]
  },
  {
   "cell_type": "code",
   "execution_count": 11,
   "id": "ad5aa9e7-45f2-4220-a2ea-2ed47349c1d4",
   "metadata": {},
   "outputs": [
    {
     "data": {
      "text/html": [
       "<div>\n",
       "<style scoped>\n",
       "    .dataframe tbody tr th:only-of-type {\n",
       "        vertical-align: middle;\n",
       "    }\n",
       "\n",
       "    .dataframe tbody tr th {\n",
       "        vertical-align: top;\n",
       "    }\n",
       "\n",
       "    .dataframe thead th {\n",
       "        text-align: right;\n",
       "    }\n",
       "</style>\n",
       "<table border=\"1\" class=\"dataframe\">\n",
       "  <thead>\n",
       "    <tr style=\"text-align: right;\">\n",
       "      <th></th>\n",
       "      <th>Suburb</th>\n",
       "      <th>Address</th>\n",
       "      <th>Rooms</th>\n",
       "      <th>Type</th>\n",
       "      <th>Price</th>\n",
       "      <th>Date</th>\n",
       "      <th>Distance</th>\n",
       "      <th>Postcode</th>\n",
       "      <th>Bedroom2</th>\n",
       "      <th>Bathroom</th>\n",
       "      <th>Car</th>\n",
       "      <th>Landsize</th>\n",
       "      <th>CouncilArea</th>\n",
       "      <th>Regionname</th>\n",
       "      <th>Propertycount</th>\n",
       "    </tr>\n",
       "  </thead>\n",
       "  <tbody>\n",
       "    <tr>\n",
       "      <th>5341</th>\n",
       "      <td>Hawthorn</td>\n",
       "      <td>35 College St</td>\n",
       "      <td>3</td>\n",
       "      <td>h</td>\n",
       "      <td>2375000.0</td>\n",
       "      <td>27/11/2016</td>\n",
       "      <td>4.6</td>\n",
       "      <td>3122.0</td>\n",
       "      <td>3.0</td>\n",
       "      <td>2.0</td>\n",
       "      <td>2.0</td>\n",
       "      <td>472.0</td>\n",
       "      <td>Boroondara City Council</td>\n",
       "      <td>Southern Metropolitan</td>\n",
       "      <td>11308.0</td>\n",
       "    </tr>\n",
       "    <tr>\n",
       "      <th>1901</th>\n",
       "      <td>Brighton</td>\n",
       "      <td>7 Carpenter St</td>\n",
       "      <td>3</td>\n",
       "      <td>h</td>\n",
       "      <td>2375000.0</td>\n",
       "      <td>25/02/2017</td>\n",
       "      <td>11.2</td>\n",
       "      <td>3186.0</td>\n",
       "      <td>3.0</td>\n",
       "      <td>2.0</td>\n",
       "      <td>2.0</td>\n",
       "      <td>470.0</td>\n",
       "      <td>Bayside City Council</td>\n",
       "      <td>Southern Metropolitan</td>\n",
       "      <td>10579.0</td>\n",
       "    </tr>\n",
       "    <tr>\n",
       "      <th>21297</th>\n",
       "      <td>Kew</td>\n",
       "      <td>14 Atkins St</td>\n",
       "      <td>4</td>\n",
       "      <td>h</td>\n",
       "      <td>2375000.0</td>\n",
       "      <td>16/09/2017</td>\n",
       "      <td>5.4</td>\n",
       "      <td>3101.0</td>\n",
       "      <td>4.0</td>\n",
       "      <td>3.0</td>\n",
       "      <td>2.0</td>\n",
       "      <td>481.0</td>\n",
       "      <td>Boroondara City Council</td>\n",
       "      <td>Southern Metropolitan</td>\n",
       "      <td>10331.0</td>\n",
       "    </tr>\n",
       "    <tr>\n",
       "      <th>32522</th>\n",
       "      <td>Canterbury</td>\n",
       "      <td>8 Selwyn St</td>\n",
       "      <td>3</td>\n",
       "      <td>h</td>\n",
       "      <td>2375000.0</td>\n",
       "      <td>17/02/2018</td>\n",
       "      <td>8.4</td>\n",
       "      <td>3126.0</td>\n",
       "      <td>3.0</td>\n",
       "      <td>2.0</td>\n",
       "      <td>1.0</td>\n",
       "      <td>590.0</td>\n",
       "      <td>Boroondara City Council</td>\n",
       "      <td>Southern Metropolitan</td>\n",
       "      <td>3265.0</td>\n",
       "    </tr>\n",
       "    <tr>\n",
       "      <th>26115</th>\n",
       "      <td>Kew East</td>\n",
       "      <td>41 White Av</td>\n",
       "      <td>5</td>\n",
       "      <td>h</td>\n",
       "      <td>2375000.0</td>\n",
       "      <td>28/10/2017</td>\n",
       "      <td>7.3</td>\n",
       "      <td>3102.0</td>\n",
       "      <td>5.0</td>\n",
       "      <td>3.0</td>\n",
       "      <td>2.0</td>\n",
       "      <td>570.0</td>\n",
       "      <td>Boroondara City Council</td>\n",
       "      <td>Southern Metropolitan</td>\n",
       "      <td>2671.0</td>\n",
       "    </tr>\n",
       "    <tr>\n",
       "      <th>...</th>\n",
       "      <td>...</td>\n",
       "      <td>...</td>\n",
       "      <td>...</td>\n",
       "      <td>...</td>\n",
       "      <td>...</td>\n",
       "      <td>...</td>\n",
       "      <td>...</td>\n",
       "      <td>...</td>\n",
       "      <td>...</td>\n",
       "      <td>...</td>\n",
       "      <td>...</td>\n",
       "      <td>...</td>\n",
       "      <td>...</td>\n",
       "      <td>...</td>\n",
       "      <td>...</td>\n",
       "    </tr>\n",
       "    <tr>\n",
       "      <th>5937</th>\n",
       "      <td>Kew</td>\n",
       "      <td>15 Barry St</td>\n",
       "      <td>6</td>\n",
       "      <td>h</td>\n",
       "      <td>6500000.0</td>\n",
       "      <td>13/08/2016</td>\n",
       "      <td>5.6</td>\n",
       "      <td>3101.0</td>\n",
       "      <td>6.0</td>\n",
       "      <td>6.0</td>\n",
       "      <td>3.0</td>\n",
       "      <td>1334.0</td>\n",
       "      <td>Boroondara City Council</td>\n",
       "      <td>Southern Metropolitan</td>\n",
       "      <td>10331.0</td>\n",
       "    </tr>\n",
       "    <tr>\n",
       "      <th>15696</th>\n",
       "      <td>Hawthorn</td>\n",
       "      <td>49 Lisson Gr</td>\n",
       "      <td>4</td>\n",
       "      <td>h</td>\n",
       "      <td>7650000.0</td>\n",
       "      <td>17/06/2017</td>\n",
       "      <td>5.3</td>\n",
       "      <td>3122.0</td>\n",
       "      <td>4.0</td>\n",
       "      <td>2.0</td>\n",
       "      <td>4.0</td>\n",
       "      <td>1690.0</td>\n",
       "      <td>Boroondara City Council</td>\n",
       "      <td>Southern Metropolitan</td>\n",
       "      <td>11308.0</td>\n",
       "    </tr>\n",
       "    <tr>\n",
       "      <th>12539</th>\n",
       "      <td>Canterbury</td>\n",
       "      <td>49 Mangarra Rd</td>\n",
       "      <td>5</td>\n",
       "      <td>h</td>\n",
       "      <td>8000000.0</td>\n",
       "      <td>13/05/2017</td>\n",
       "      <td>9.0</td>\n",
       "      <td>3126.0</td>\n",
       "      <td>5.0</td>\n",
       "      <td>5.0</td>\n",
       "      <td>4.0</td>\n",
       "      <td>2079.0</td>\n",
       "      <td>Boroondara City Council</td>\n",
       "      <td>Southern Metropolitan</td>\n",
       "      <td>3265.0</td>\n",
       "    </tr>\n",
       "    <tr>\n",
       "      <th>19583</th>\n",
       "      <td>Mulgrave</td>\n",
       "      <td>35 Bevis St</td>\n",
       "      <td>3</td>\n",
       "      <td>h</td>\n",
       "      <td>9000000.0</td>\n",
       "      <td>29/07/2017</td>\n",
       "      <td>18.8</td>\n",
       "      <td>3170.0</td>\n",
       "      <td>3.0</td>\n",
       "      <td>1.0</td>\n",
       "      <td>1.0</td>\n",
       "      <td>744.0</td>\n",
       "      <td>Monash City Council</td>\n",
       "      <td>South-Eastern Metropolitan</td>\n",
       "      <td>7113.0</td>\n",
       "    </tr>\n",
       "    <tr>\n",
       "      <th>25635</th>\n",
       "      <td>Brighton</td>\n",
       "      <td>6 Cole St</td>\n",
       "      <td>4</td>\n",
       "      <td>h</td>\n",
       "      <td>11200000.0</td>\n",
       "      <td>28/10/2017</td>\n",
       "      <td>10.5</td>\n",
       "      <td>3186.0</td>\n",
       "      <td>4.0</td>\n",
       "      <td>3.0</td>\n",
       "      <td>2.0</td>\n",
       "      <td>1400.0</td>\n",
       "      <td>Bayside City Council</td>\n",
       "      <td>Southern Metropolitan</td>\n",
       "      <td>10579.0</td>\n",
       "    </tr>\n",
       "  </tbody>\n",
       "</table>\n",
       "<p>821 rows × 15 columns</p>\n",
       "</div>"
      ],
      "text/plain": [
       "           Suburb         Address  Rooms Type       Price        Date  \\\n",
       "5341     Hawthorn   35 College St      3    h   2375000.0  27/11/2016   \n",
       "1901     Brighton  7 Carpenter St      3    h   2375000.0  25/02/2017   \n",
       "21297         Kew    14 Atkins St      4    h   2375000.0  16/09/2017   \n",
       "32522  Canterbury     8 Selwyn St      3    h   2375000.0  17/02/2018   \n",
       "26115    Kew East     41 White Av      5    h   2375000.0  28/10/2017   \n",
       "...           ...             ...    ...  ...         ...         ...   \n",
       "5937          Kew     15 Barry St      6    h   6500000.0  13/08/2016   \n",
       "15696    Hawthorn    49 Lisson Gr      4    h   7650000.0  17/06/2017   \n",
       "12539  Canterbury  49 Mangarra Rd      5    h   8000000.0  13/05/2017   \n",
       "19583    Mulgrave     35 Bevis St      3    h   9000000.0  29/07/2017   \n",
       "25635    Brighton       6 Cole St      4    h  11200000.0  28/10/2017   \n",
       "\n",
       "       Distance  Postcode  Bedroom2  Bathroom  Car  Landsize  \\\n",
       "5341        4.6    3122.0       3.0       2.0  2.0     472.0   \n",
       "1901       11.2    3186.0       3.0       2.0  2.0     470.0   \n",
       "21297       5.4    3101.0       4.0       3.0  2.0     481.0   \n",
       "32522       8.4    3126.0       3.0       2.0  1.0     590.0   \n",
       "26115       7.3    3102.0       5.0       3.0  2.0     570.0   \n",
       "...         ...       ...       ...       ...  ...       ...   \n",
       "5937        5.6    3101.0       6.0       6.0  3.0    1334.0   \n",
       "15696       5.3    3122.0       4.0       2.0  4.0    1690.0   \n",
       "12539       9.0    3126.0       5.0       5.0  4.0    2079.0   \n",
       "19583      18.8    3170.0       3.0       1.0  1.0     744.0   \n",
       "25635      10.5    3186.0       4.0       3.0  2.0    1400.0   \n",
       "\n",
       "                   CouncilArea                  Regionname  Propertycount  \n",
       "5341   Boroondara City Council       Southern Metropolitan        11308.0  \n",
       "1901      Bayside City Council       Southern Metropolitan        10579.0  \n",
       "21297  Boroondara City Council       Southern Metropolitan        10331.0  \n",
       "32522  Boroondara City Council       Southern Metropolitan         3265.0  \n",
       "26115  Boroondara City Council       Southern Metropolitan         2671.0  \n",
       "...                        ...                         ...            ...  \n",
       "5937   Boroondara City Council       Southern Metropolitan        10331.0  \n",
       "15696  Boroondara City Council       Southern Metropolitan        11308.0  \n",
       "12539  Boroondara City Council       Southern Metropolitan         3265.0  \n",
       "19583      Monash City Council  South-Eastern Metropolitan         7113.0  \n",
       "25635     Bayside City Council       Southern Metropolitan        10579.0  \n",
       "\n",
       "[821 rows x 15 columns]"
      ]
     },
     "execution_count": 11,
     "metadata": {},
     "output_type": "execute_result"
    }
   ],
   "source": [
    "finding_outliers(df, 'Price').sort_values('Price')"
   ]
  },
  {
   "cell_type": "code",
   "execution_count": 12,
   "id": "664dc074-712a-4677-8570-94db954e7f03",
   "metadata": {},
   "outputs": [],
   "source": [
    "# amputation method\n",
    "\n",
    "# for price\n",
    "iqr_price = df['Price'].quantile(0.75) - df['Price'].quantile(0.25)\n",
    "df['Price'].quantile(0.75) + 1.5 * iqr_price\n",
    "\n",
    "\n",
    "df.loc[(finding_outliers(df, 'Price').index, 'Price')] = df['Price'].quantile(0.75) + 1.5 * iqr_price"
   ]
  },
  {
   "cell_type": "code",
   "execution_count": 13,
   "id": "a35482a1-e764-485c-b78d-2aba623d8465",
   "metadata": {},
   "outputs": [
    {
     "data": {
      "text/plain": [
       "<AxesSubplot:ylabel='Price'>"
      ]
     },
     "execution_count": 13,
     "metadata": {},
     "output_type": "execute_result"
    },
    {
     "data": {
      "image/png": "[encoded data removed]",
      "text/plain": [
       "<Figure size 576x576 with 1 Axes>"
      ]
     },
     "metadata": {
      "needs_background": "light"
     },
     "output_type": "display_data"
    }
   ],
   "source": [
    "# boxplot\n",
    "plt.figure(figsize = (8,8))\n",
    "sns.boxplot(y = 'Price', data = df)"
   ]
  },
  {
   "cell_type": "code",
   "execution_count": 14,
   "id": "b378fcd8-acc4-42e2-8fae-db8bc0d8a0fa",
   "metadata": {},
   "outputs": [
    {
     "data": {
      "text/plain": [
       "<AxesSubplot:ylabel='Bedroom2'>"
      ]
     },
     "execution_count": 14,
     "metadata": {},
     "output_type": "execute_result"
    },
    {
     "data": {
      "image/png": "[encoded data removed]",
      "text/plain": [
       "<Figure size 576x576 with 1 Axes>"
      ]
     },
     "metadata": {
      "needs_background": "light"
     },
     "output_type": "display_data"
    }
   ],
   "source": [
    "# boxplot\n",
    "plt.figure(figsize = (8,8))\n",
    "sns.boxplot(y = 'Bedroom2', data = df)"
   ]
  },
  {
   "cell_type": "code",
   "execution_count": 15,
   "id": "9d02711d-a403-47bf-a69b-6e6c7ad9001a",
   "metadata": {},
   "outputs": [
    {
     "data": {
      "text/plain": [
       "<AxesSubplot:ylabel='Bedroom2'>"
      ]
     },
     "execution_count": 15,
     "metadata": {},
     "output_type": "execute_result"
    },
    {
     "data": {
      "image/png": "[encoded data removed]",
      "text/plain": [
       "<Figure size 576x576 with 1 Axes>"
      ]
     },
     "metadata": {
      "needs_background": "light"
     },
     "output_type": "display_data"
    }
   ],
   "source": [
    "# bedroom outliers\n",
    "finding_outliers(df, 'Bedroom2').sort_values('Bedroom2')\n",
    "\n",
    "# for price\n",
    "iqr_price = df['Bedroom2'].quantile(0.75) - df['Bedroom2'].quantile(0.25)\n",
    "df['Bedroom2'].quantile(0.75) + 1.5 * iqr_price\n",
    "\n",
    "\n",
    "df.loc[(finding_outliers(df, 'Bedroom2').index, 'Bedroom2')] = df['Bedroom2'].quantile(0.75) + 1.5 * iqr_price\n",
    "\n",
    "# boxplot\n",
    "plt.figure(figsize = (8,8))\n",
    "sns.boxplot(y = 'Bedroom2', data = df)"
   ]
  },
  {
   "cell_type": "code",
   "execution_count": 16,
   "id": "95d30114-7df8-4941-813f-b709799ed7f0",
   "metadata": {},
   "outputs": [
    {
     "data": {
      "text/plain": [
       "<AxesSubplot:ylabel='Bathroom'>"
      ]
     },
     "execution_count": 16,
     "metadata": {},
     "output_type": "execute_result"
    },
    {
     "data": {
      "image/png": "[encoded data removed]",
      "text/plain": [
       "<Figure size 576x576 with 1 Axes>"
      ]
     },
     "metadata": {
      "needs_background": "light"
     },
     "output_type": "display_data"
    }
   ],
   "source": [
    "# boxplot\n",
    "plt.figure(figsize = (8,8))\n",
    "sns.boxplot(y = 'Bathroom', data = df)"
   ]
  },
  {
   "cell_type": "code",
   "execution_count": 17,
   "id": "f3d0683b-a4c0-4428-9a7b-b07961da4ab0",
   "metadata": {},
   "outputs": [
    {
     "data": {
      "text/plain": [
       "<AxesSubplot:ylabel='Bathroom'>"
      ]
     },
     "execution_count": 17,
     "metadata": {},
     "output_type": "execute_result"
    },
    {
     "data": {
      "image/png": "[encoded data removed]",
      "text/plain": [
       "<Figure size 576x576 with 1 Axes>"
      ]
     },
     "metadata": {
      "needs_background": "light"
     },
     "output_type": "display_data"
    }
   ],
   "source": [
    "# bedroom outliers\n",
    "finding_outliers(df, 'Bathroom').sort_values('Bathroom')\n",
    "\n",
    "# for price\n",
    "iqr_price = df['Bathroom'].quantile(0.75) - df['Bathroom'].quantile(0.25)\n",
    "df['Bathroom'].quantile(0.75) + 1.5 * iqr_price\n",
    "\n",
    "\n",
    "df.loc[(finding_outliers(df, 'Bathroom').index, 'Bathroom')] = df['Bathroom'].quantile(0.75) + 1.5 * iqr_price\n",
    "\n",
    "# boxplot\n",
    "plt.figure(figsize = (8,8))\n",
    "sns.boxplot(y = 'Bathroom', data = df)"
   ]
  },
  {
   "cell_type": "code",
   "execution_count": 18,
   "id": "1c6db15a-56d1-45de-9aad-1cd86a79da2e",
   "metadata": {},
   "outputs": [
    {
     "data": {
      "text/plain": [
       "<AxesSubplot:xlabel='Bathroom', ylabel='Price'>"
      ]
     },
     "execution_count": 18,
     "metadata": {},
     "output_type": "execute_result"
    },
    {
     "data": {
      "image/png": "[encoded data removed]",
      "text/plain": [
       "<Figure size 1080x576 with 1 Axes>"
      ]
     },
     "metadata": {
      "needs_background": "light"
     },
     "output_type": "display_data"
    }
   ],
   "source": [
    "# Relationship between bathroom vs price\n",
    "#plot  bathroom vs price\n",
    "plt.figure(figsize = (15,8))\n",
    "sns.boxplot(x = 'Bathroom', y = 'Price', data = df)"
   ]
  },
  {
   "cell_type": "code",
   "execution_count": 19,
   "id": "1c5cd978-a73b-43c6-b4fd-805e6ad320ae",
   "metadata": {},
   "outputs": [
    {
     "data": {
      "text/plain": [
       "<AxesSubplot:xlabel='Bedroom2', ylabel='Price'>"
      ]
     },
     "execution_count": 19,
     "metadata": {},
     "output_type": "execute_result"
    },
    {
     "data": {
      "image/png": "[encoded data removed]",
      "text/plain": [
       "<Figure size 1080x576 with 1 Axes>"
      ]
     },
     "metadata": {
      "needs_background": "light"
     },
     "output_type": "display_data"
    }
   ],
   "source": [
    "# Relationship between bedroom vs price\n",
    "# plot  bedroom vs price\n",
    "plt.figure(figsize = (15,8))\n",
    "sns.boxplot(x = 'Bedroom2', y = 'Price', data = df)"
   ]
  },
  {
   "cell_type": "code",
   "execution_count": 20,
   "id": "380c0a94-be20-4edb-a264-4ae4d19110b7",
   "metadata": {},
   "outputs": [
    {
     "data": {
      "text/plain": [
       "<seaborn.axisgrid.JointGrid at 0x1d8d53d0340>"
      ]
     },
     "execution_count": 20,
     "metadata": {},
     "output_type": "execute_result"
    },
    {
     "data": {
      "text/plain": [
       "<Figure size 1080x576 with 0 Axes>"
      ]
     },
     "metadata": {},
     "output_type": "display_data"
    },
    {
     "data": {
      "image/png": "[encoded data removed]",
      "text/plain": [
       "<Figure size 432x432 with 3 Axes>"
      ]
     },
     "metadata": {
      "needs_background": "light"
     },
     "output_type": "display_data"
    }
   ],
   "source": [
    "# Relationship between Landsize and price\n",
    "# plot  bedroom vs price\n",
    "plt.figure(figsize = (15,8))\n",
    "sns.jointplot(x='Landsize', y='Price',data=df,color='red')"
   ]
  },
  {
   "cell_type": "code",
   "execution_count": 21,
   "id": "c66b936f-a0cc-42b3-8a94-90dce64c7f2e",
   "metadata": {},
   "outputs": [
    {
     "data": {
      "text/plain": [
       "<AxesSubplot:xlabel='Bedroom2', ylabel='Price'>"
      ]
     },
     "execution_count": 21,
     "metadata": {},
     "output_type": "execute_result"
    },
    {
     "data": {
      "image/png": "[encoded data removed]",
      "text/plain": [
       "<Figure size 1080x576 with 1 Axes>"
      ]
     },
     "metadata": {
      "needs_background": "light"
     },
     "output_type": "display_data"
    }
   ],
   "source": [
    "# relationship between price and Bedroom2 and Bathroom\n",
    "plt.figure(figsize = (15,8))\n",
    "sns.boxplot(x = 'Bedroom2', y = 'Price', hue = 'Bathroom', data = df)"
   ]
  },
  {
   "cell_type": "code",
   "execution_count": 22,
   "id": "e1bb3a88-8dea-4a23-9b52-0a0a5002b176",
   "metadata": {},
   "outputs": [
    {
     "data": {
      "image/png": "[encoded data removed]",
      "text/plain": [
       "<Figure size 720x576 with 9 Axes>"
      ]
     },
     "metadata": {
      "needs_background": "light"
     },
     "output_type": "display_data"
    }
   ],
   "source": [
    "# plot each numerical attribute\n",
    "df.hist(bins=50, figsize=(10, 8))\n",
    "plt.show()"
   ]
  },
  {
   "cell_type": "code",
   "execution_count": 23,
   "id": "53ac4386-46b5-4d8c-a52a-69f2350ac16f",
   "metadata": {},
   "outputs": [
    {
     "data": {
      "text/plain": [
       "<AxesSubplot:xlabel='Bathroom', ylabel='count'>"
      ]
     },
     "execution_count": 23,
     "metadata": {},
     "output_type": "execute_result"
    },
    {
     "data": {
      "image/png": "[encoded data removed]",
      "text/plain": [
       "<Figure size 1080x576 with 1 Axes>"
      ]
     },
     "metadata": {
      "needs_background": "light"
     },
     "output_type": "display_data"
    }
   ],
   "source": [
    "# plot bathroom\n",
    "plt.figure(figsize = (15,8))\n",
    "sns.countplot(x= 'Bathroom', data = df)"
   ]
  },
  {
   "cell_type": "code",
   "execution_count": 24,
   "id": "f572d85d-91d7-4651-844d-b4e89d76e3ab",
   "metadata": {},
   "outputs": [
    {
     "data": {
      "text/plain": [
       "<AxesSubplot:xlabel='Bedroom2', ylabel='count'>"
      ]
     },
     "execution_count": 24,
     "metadata": {},
     "output_type": "execute_result"
    },
    {
     "data": {
      "image/png": "[encoded data removed]",
      "text/plain": [
       "<Figure size 1080x576 with 1 Axes>"
      ]
     },
     "metadata": {
      "needs_background": "light"
     },
     "output_type": "display_data"
    }
   ],
   "source": [
    "# plot Bedroom2\n",
    "plt.figure(figsize = (15,8))\n",
    "sns.countplot(x= 'Bedroom2', data = df)"
   ]
  },
  {
   "cell_type": "code",
   "execution_count": 25,
   "id": "ed727035-18a1-4fd5-92cb-5bc56a2adcb9",
   "metadata": {},
   "outputs": [
    {
     "data": {
      "text/plain": [
       "<AxesSubplot:xlabel='Type', ylabel='count'>"
      ]
     },
     "execution_count": 25,
     "metadata": {},
     "output_type": "execute_result"
    },
    {
     "data": {
      "image/png": "[encoded data removed]",
      "text/plain": [
       "<Figure size 1080x576 with 1 Axes>"
      ]
     },
     "metadata": {
      "needs_background": "light"
     },
     "output_type": "display_data"
    }
   ],
   "source": [
    "# plot type  of housing\n",
    "plt.figure(figsize = (15,8))\n",
    "sns.countplot(x= 'Type', data = df)"
   ]
  },
  {
   "cell_type": "code",
   "execution_count": 26,
   "id": "1fd74f07-b633-4ee6-8132-48fbbd807db4",
   "metadata": {},
   "outputs": [
    {
     "data": {
      "text/plain": [
       "<AxesSubplot:xlabel='Car', ylabel='count'>"
      ]
     },
     "execution_count": 26,
     "metadata": {},
     "output_type": "execute_result"
    },
    {
     "data": {
      "image/png": "[encoded data removed]",
      "text/plain": [
       "<Figure size 1080x576 with 1 Axes>"
      ]
     },
     "metadata": {
      "needs_background": "light"
     },
     "output_type": "display_data"
    }
   ],
   "source": [
    "# plot car \n",
    "plt.figure(figsize = (15,8))\n",
    "sns.countplot(x = 'Car', data = df)"
   ]
  },
  {
   "cell_type": "code",
   "execution_count": 27,
   "id": "9553c518-6fc4-4b89-a458-2b31c48c0c13",
   "metadata": {},
   "outputs": [
    {
     "data": {
      "text/plain": [
       "[Text(0, 0, 'Northern Metropolitan'),\n",
       " Text(1, 0, 'Western Metropolitan'),\n",
       " Text(2, 0, 'Southern Metropolitan'),\n",
       " Text(3, 0, 'Eastern Metropolitan'),\n",
       " Text(4, 0, 'South-Eastern Metropolitan'),\n",
       " Text(5, 0, 'Eastern Victoria'),\n",
       " Text(6, 0, 'Northern Victoria'),\n",
       " Text(7, 0, 'Western Victoria')]"
      ]
     },
     "execution_count": 27,
     "metadata": {},
     "output_type": "execute_result"
    },
    {
     "data": {
      "image/png": "[encoded data removed]",
      "text/plain": [
       "<Figure size 1080x576 with 1 Axes>"
      ]
     },
     "metadata": {
      "needs_background": "light"
     },
     "output_type": "display_data"
    }
   ],
   "source": [
    "# plot regionname \n",
    "plt.figure(figsize = (15,8))\n",
    "ax = sns.countplot(x = 'Regionname', data = df, )\n",
    "ax.set_xticklabels(ax.get_xticklabels(),rotation = 30)"
   ]
  },
  {
   "cell_type": "code",
   "execution_count": 28,
   "id": "76241c3c-797b-4b63-989b-3f4f4fc44495",
   "metadata": {},
   "outputs": [
    {
     "data": {
      "text/plain": [
       "<AxesSubplot:xlabel='Propertycount', ylabel='Regionname'>"
      ]
     },
     "execution_count": 28,
     "metadata": {},
     "output_type": "execute_result"
    },
    {
     "data": {
      "image/png": "[encoded data removed]",
      "text/plain": [
       "<Figure size 1080x576 with 1 Axes>"
      ]
     },
     "metadata": {
      "needs_background": "light"
     },
     "output_type": "display_data"
    }
   ],
   "source": [
    "# plot propertycount\n",
    "plt.figure(figsize = (15,8))\n",
    "sns.barplot(x = 'Propertycount', y ='Regionname', data = df)"
   ]
  },
  {
   "cell_type": "code",
   "execution_count": 29,
   "id": "51354d9b-3cea-4d49-8aef-ed57af746c6d",
   "metadata": {},
   "outputs": [
    {
     "data": {
      "image/png": "[encoded data removed]",
      "text/plain": [
       "<Figure size 1080x576 with 2 Axes>"
      ]
     },
     "metadata": {
      "needs_background": "light"
     },
     "output_type": "display_data"
    }
   ],
   "source": [
    "# heatmap\n",
    "plt.figure(figsize=(15,8))\n",
    "sns.heatmap(df.corr(),annot=True,cmap='coolwarm')\n",
    "plt.savefig('heatmap.png')"
   ]
  },
  {
   "cell_type": "markdown",
   "id": "9ee96787-c50b-4ad3-aaca-82bac1450169",
   "metadata": {},
   "source": [
    "## Data preparation"
   ]
  },
  {
   "cell_type": "code",
   "execution_count": 30,
   "id": "fb01278f-2087-4cfd-bd91-dd2005f1ceb8",
   "metadata": {},
   "outputs": [
    {
     "data": {
      "text/html": [
       "<div>\n",
       "<style scoped>\n",
       "    .dataframe tbody tr th:only-of-type {\n",
       "        vertical-align: middle;\n",
       "    }\n",
       "\n",
       "    .dataframe tbody tr th {\n",
       "        vertical-align: top;\n",
       "    }\n",
       "\n",
       "    .dataframe thead th {\n",
       "        text-align: right;\n",
       "    }\n",
       "</style>\n",
       "<table border=\"1\" class=\"dataframe\">\n",
       "  <thead>\n",
       "    <tr style=\"text-align: right;\">\n",
       "      <th></th>\n",
       "      <th>Suburb</th>\n",
       "      <th>Address</th>\n",
       "      <th>Type</th>\n",
       "      <th>Date</th>\n",
       "      <th>CouncilArea</th>\n",
       "      <th>Regionname</th>\n",
       "    </tr>\n",
       "  </thead>\n",
       "  <tbody>\n",
       "    <tr>\n",
       "      <th>1</th>\n",
       "      <td>Abbotsford</td>\n",
       "      <td>85 Turner St</td>\n",
       "      <td>h</td>\n",
       "      <td>3/12/2016</td>\n",
       "      <td>Yarra City Council</td>\n",
       "      <td>Northern Metropolitan</td>\n",
       "    </tr>\n",
       "    <tr>\n",
       "      <th>2</th>\n",
       "      <td>Abbotsford</td>\n",
       "      <td>25 Bloomburg St</td>\n",
       "      <td>h</td>\n",
       "      <td>4/02/2016</td>\n",
       "      <td>Yarra City Council</td>\n",
       "      <td>Northern Metropolitan</td>\n",
       "    </tr>\n",
       "    <tr>\n",
       "      <th>4</th>\n",
       "      <td>Abbotsford</td>\n",
       "      <td>5 Charles St</td>\n",
       "      <td>h</td>\n",
       "      <td>4/03/2017</td>\n",
       "      <td>Yarra City Council</td>\n",
       "      <td>Northern Metropolitan</td>\n",
       "    </tr>\n",
       "    <tr>\n",
       "      <th>5</th>\n",
       "      <td>Abbotsford</td>\n",
       "      <td>40 Federation La</td>\n",
       "      <td>h</td>\n",
       "      <td>4/03/2017</td>\n",
       "      <td>Yarra City Council</td>\n",
       "      <td>Northern Metropolitan</td>\n",
       "    </tr>\n",
       "    <tr>\n",
       "      <th>6</th>\n",
       "      <td>Abbotsford</td>\n",
       "      <td>55a Park St</td>\n",
       "      <td>h</td>\n",
       "      <td>4/06/2016</td>\n",
       "      <td>Yarra City Council</td>\n",
       "      <td>Northern Metropolitan</td>\n",
       "    </tr>\n",
       "  </tbody>\n",
       "</table>\n",
       "</div>"
      ],
      "text/plain": [
       "       Suburb           Address Type       Date         CouncilArea  \\\n",
       "1  Abbotsford      85 Turner St    h  3/12/2016  Yarra City Council   \n",
       "2  Abbotsford   25 Bloomburg St    h  4/02/2016  Yarra City Council   \n",
       "4  Abbotsford      5 Charles St    h  4/03/2017  Yarra City Council   \n",
       "5  Abbotsford  40 Federation La    h  4/03/2017  Yarra City Council   \n",
       "6  Abbotsford       55a Park St    h  4/06/2016  Yarra City Council   \n",
       "\n",
       "              Regionname  \n",
       "1  Northern Metropolitan  \n",
       "2  Northern Metropolitan  \n",
       "4  Northern Metropolitan  \n",
       "5  Northern Metropolitan  \n",
       "6  Northern Metropolitan  "
      ]
     },
     "execution_count": 30,
     "metadata": {},
     "output_type": "execute_result"
    }
   ],
   "source": [
    "# identify the variable to convert to numerical variable\n",
    "obj_df = df.select_dtypes(include=['object']).copy()\n",
    "obj_df.head()"
   ]
  },
  {
   "cell_type": "code",
   "execution_count": 31,
   "id": "50fedc8c-3d9f-416c-a81f-67139410f92e",
   "metadata": {},
   "outputs": [],
   "source": [
    "# Convert categorical data to numeric and separate target feature for training data\n",
    "\n",
    "# defining our features and label\n",
    "X = df.drop(['Price'], axis =1)\n",
    "y = df['Price']\n",
    "\n",
    "\n",
    "\n",
    "X= pd.get_dummies(X, columns=['Suburb',\n",
    "                              'Address',\n",
    "                               'Type',\n",
    "                                'Date',\n",
    "                                'CouncilArea',  \n",
    "                                'Regionname'], drop_first=True)"
   ]
  },
  {
   "cell_type": "code",
   "execution_count": 32,
   "id": "b44c05e5-5952-4e8f-a61e-8e8f2a66dbd9",
   "metadata": {},
   "outputs": [],
   "source": [
    "# split data\n",
    "X_train, X_test, y_train, y_test = train_test_split(X, y, test_size = 0.2, random_state = 42)\n",
    "\n",
    "# validation data\n",
    "X_val, X_test, y_val, y_test = train_test_split(X_test, y_test, test_size = 0.5, random_state = 42)\n",
    "\n",
    "# Scala data\n",
    "scaler = StandardScaler().fit(X_train)\n",
    "X_train_scaled = scaler.transform(X_train)\n",
    "X_test_scaled = scaler.transform(X_test)"
   ]
  },
  {
   "cell_type": "markdown",
   "id": "3541f63d-0b2a-4e66-bda1-7c2c42a7b636",
   "metadata": {},
   "source": [
    "## Data modeling"
   ]
  },
  {
   "cell_type": "code",
   "execution_count": null,
   "id": "46abe795-2489-415e-8502-86537bc576ac",
   "metadata": {},
   "outputs": [],
   "source": [
    "# linearRegression\n",
    "\n",
    "    #fit the linearRegression model with data\n",
    "modelR = LinearRegression().fit(X_train_scaled, y_train)\n",
    "    # calculate training and testing score \n",
    "training_score = modelR.score(X_train_scaled, y_train)\n",
    "testing_score = modelR.score(X_test_scaled, y_test)\n",
    "    # print the training testing score\n",
    "print(f\"Training Score: {training_score}\")\n",
    "print(f\"Testing Score: {testing_score}\")\n"
   ]
  },
  {
   "cell_type": "code",
   "execution_count": null,
   "id": "66d2c1da-fe9e-43c1-bf06-3447c16761c7",
   "metadata": {},
   "outputs": [],
   "source": [
    "# random forest\n",
    "    #fit the Ridge model with data\n",
    "model_rf = RandomForestRegressor(n_estimators = 100, criterion = 'mse',\n",
    "                              random_state = 42,\n",
    "                             max_depth = 2).fit(X_train_scaled, y_train)\n",
    "\n",
    "    # print the training testing score\n",
    "training_score = model_rf.score(X_train, y_train)\n",
    "testing_score = model_rf.score(X_test, y_test)\n",
    "\n",
    "    # print the training testing score\n",
    "print(f\"Training Score: {training_score}\")\n",
    "print(f\"Testing Score: {testing_score}\")\n"
   ]
  },
  {
   "cell_type": "code",
   "execution_count": null,
   "id": "4705658f-155a-40cd-8757-e15517200a18",
   "metadata": {},
   "outputs": [],
   "source": [
    "# Decisiontree\n",
    "\n",
    "    #fit the linearRegression model with data\n",
    "model_tree = DecisonTreeRegressor(criterion = 'mse', \n",
    "                                  max_depth ='None', \n",
    "                                  min_samples_split= 2,\n",
    "                                  min_sample_leaf=1, \n",
    "                                  max_feature = 1).fit(X_train_, y_train)\n",
    "    # calculate training and testing score \n",
    "training_score = model_tree.score(X_train, y_train)\n",
    "testing_score = model_tree.score(X_train, y_test)\n",
    "\n",
    "    # print the training testing score\n",
    "print(f\"Training Score: {training_score}\")\n",
    "print(f\"Testing Score: {testing_score}\")\n"
   ]
  },
  {
   "cell_type": "code",
   "execution_count": null,
   "id": "7d6a7dbd-6a27-4942-a9f9-11b5f724b304",
   "metadata": {},
   "outputs": [],
   "source": [
    "# randomizedSearchCV\n",
    "    #fit the linearRegression model with data\n",
    "model_cv = randomizedSearchCV().fit(X_train_scaled, y_train)\n",
    "    # calculate training and testing score \n",
    "training_score = model_cv.score(X_train_scaled, y_train)\n",
    "testing_score = model_cv.score(X_test_scaled, y_test)\n",
    "    # print the training testing score\n",
    "print(f\"Training Score: {training_score}\")\n",
    "print(f\"Testing Score: {testing_score}\")\n"
   ]
  },
  {
   "cell_type": "code",
   "execution_count": null,
   "id": "121df344-e0a6-41e7-b050-a222f84eaa8c",
   "metadata": {},
   "outputs": [],
   "source": [
    "# lasso\n",
    "    #fit the lasso model with data\n",
    "model_lasso = Lasso(alpha =1.0 , max_iter = 1000).fit(X_train_scaled, y_train)\n",
    "\n",
    "    # calculate training and testing score \n",
    "training_score = model_lasso.score(X_train_scaled, y_test)\n",
    "testing_score = model_lasso.score(X_test_scaled, y_test)\n",
    "\n",
    "    # print the training testing score\n",
    "print(f\"Training Score: {training_score}\")\n",
    "print(f\"Testing Score: {testing_score}\")"
   ]
  },
  {
   "cell_type": "code",
   "execution_count": null,
   "id": "880e920d-e245-4180-ad09-37ee1309a715",
   "metadata": {},
   "outputs": [],
   "source": [
    "# Ridge\n",
    "    #fit the Ridge model with data\n",
    "model_Ridge = Ridge(alpha = 100).fit(X_train_scaled, y_train)\n",
    "\n",
    "    # calculate training and testing score \n",
    "training_score = model_Ridge.score(X_train_scaled, y_test)\n",
    "testing_score = model_Ridge.score(X_test_scaled, y_test)\n",
    "\n",
    "    # print the training testing score\n",
    "print(f\"Training Score: {training_score}\")\n",
    "print(f\"Testing Score: {testing_score}\")"
   ]
  },
  {
   "cell_type": "code",
   "execution_count": null,
   "id": "c13a7f8f-8d96-49cb-b860-b41e5ba1ac54",
   "metadata": {},
   "outputs": [],
   "source": [
    "# important variable\n",
    "print(X_train_scaled.columns)\n",
    "print(rf.feature_importances_)"
   ]
  },
  {
   "cell_type": "code",
   "execution_count": null,
   "id": "bff1b618-30ab-4c70-8543-606556bfe209",
   "metadata": {},
   "outputs": [],
   "source": [
    "# see the importance by descending order\n",
    "vars_imp = pd.Series(rf.feature_importances_, index = X_train_scaled.columns).sort_values(ascending = False)\n",
    "vars_imp"
   ]
  },
  {
   "cell_type": "code",
   "execution_count": null,
   "id": "3ab533c0-484b-485d-b47b-430d6f9fb6b5",
   "metadata": {},
   "outputs": [],
   "source": [
    "sns.barplot(x = vars_imp, y= vars_imp.index)\n",
    "plt.show()"
   ]
  },
  {
   "cell_type": "code",
   "execution_count": null,
   "id": "c9655f75-0c81-4294-aef5-6cdeaa4ced35",
   "metadata": {},
   "outputs": [],
   "source": [
    "# drop the less important variable \n",
    "vars_non_imp = ['x1', 'x2', .....]\n",
    "\n",
    "X_train_scaled= X_train_scaled.drop(vars_non_imp, axis =1)\n",
    "X_val = X_val.drop(vars_non_imp, axis =1)\n",
    "X_test = X_test.drop(vars_non_imp, axis =1)"
   ]
  },
  {
   "cell_type": "code",
   "execution_count": null,
   "id": "bb82b035-25cb-4ad6-8d58-2d0c6742ef89",
   "metadata": {},
   "outputs": [],
   "source": [
    "# # random forest\n",
    "#     #fit the Ridge model with data\n",
    "# model = .fit(X_train_scaled, y_train)\n",
    "\n",
    "#     # print the training testing score\n",
    "# training_score = model.score(X_train, y_train)\n",
    "# testing_score = model.score(X_test, y_test)\n",
    "\n",
    "#     # print the training testing score\n",
    "# print(f\"Training Score: {training_score}\")\n",
    "# print(f\"Testing Score: {testing_score}\")\n"
   ]
  },
  {
   "cell_type": "code",
   "execution_count": null,
   "id": "ea07488d-5c40-4fe5-a1b8-db4e1cb21335",
   "metadata": {},
   "outputs": [],
   "source": [
    "# # Evaluation and choice of model\n",
    "def model_evaluation(model, features, labels):\n",
    "    pred = model.predict(features)\n",
    "    score = accuracy_score(y_val, pred)\n",
    "    print('Global Score :', round(score, 3))"
   ]
  },
  {
   "cell_type": "code",
   "execution_count": null,
   "id": "fdc8d948-00b8-4d74-940f-48b41a1ceed4",
   "metadata": {},
   "outputs": [],
   "source": [
    "models = [modelR, model_tree, model_cv , model_lasso, model_Ridge, model_rf]\n",
    "for model in models:\n",
    "    print('model '+ str(model))\n",
    "    model_evaluation(model, X_val, y_val)\n",
    "    print(''*100)"
   ]
  },
  {
   "cell_type": "code",
   "execution_count": null,
   "id": "308fc7b1-a7f0-4463-ba68-8041d808b3f7",
   "metadata": {},
   "outputs": [],
   "source": [
    "   # Predict the price\n",
    "# y_pred = model_tree.predict(X_test)\n",
    "# pd.DataFrame({\"Prediction\": y_pred, \"Actual\": y_test})"
   ]
  }
 ],
 "metadata": {
  "kernelspec": {
   "display_name": "Python 3",
   "language": "python",
   "name": "python3"
  },
  "language_info": {
   "codemirror_mode": {
    "name": "ipython",
    "version": 3
   },
   "file_extension": ".py",
   "mimetype": "text/x-python",
   "name": "python",
   "nbconvert_exporter": "python",
   "pygments_lexer": "ipython3",
   "version": "3.8.8"
  }
 },
 "nbformat": 4,
 "nbformat_minor": 5
}
